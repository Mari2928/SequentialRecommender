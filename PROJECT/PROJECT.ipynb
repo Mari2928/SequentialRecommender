{
  "nbformat": 4,
  "nbformat_minor": 0,
  "metadata": {
    "colab": {
      "provenance": []
    },
    "kernelspec": {
      "name": "python3",
      "display_name": "Python 3"
    },
    "language_info": {
      "name": "python"
    }
  },
  "cells": [
    {
      "cell_type": "markdown",
      "source": [
        "# Run followings for prelim setting\n",
        "\n",
        "Choose PROJECT.zip to upload"
      ],
      "metadata": {
        "id": "M9InFQ1WyTE-"
      }
    },
    {
      "cell_type": "code",
      "source": [
        "from google.colab import files\n",
        "uploaded = files.upload()"
      ],
      "metadata": {
        "colab": {
          "base_uri": "https://localhost:8080/",
          "height": 95
        },
        "id": "FLrybrl7yN2c",
        "outputId": "c2b378c9-e6fa-4e67-c0c7-338ecd5e941b"
      },
      "execution_count": null,
      "outputs": [
        {
          "output_type": "display_data",
          "data": {
            "text/plain": [
              "<IPython.core.display.HTML object>"
            ],
            "text/html": [
              "\n",
              "     <input type=\"file\" id=\"files-39774f64-fb47-466c-91ce-400900f8cf56\" name=\"files[]\" multiple disabled\n",
              "        style=\"border:none\" />\n",
              "     <output id=\"result-39774f64-fb47-466c-91ce-400900f8cf56\">\n",
              "      Upload widget is only available when the cell has been executed in the\n",
              "      current browser session. Please rerun this cell to enable.\n",
              "      </output>\n",
              "      <script>// Copyright 2017 Google LLC\n",
              "//\n",
              "// Licensed under the Apache License, Version 2.0 (the \"License\");\n",
              "// you may not use this file except in compliance with the License.\n",
              "// You may obtain a copy of the License at\n",
              "//\n",
              "//      http://www.apache.org/licenses/LICENSE-2.0\n",
              "//\n",
              "// Unless required by applicable law or agreed to in writing, software\n",
              "// distributed under the License is distributed on an \"AS IS\" BASIS,\n",
              "// WITHOUT WARRANTIES OR CONDITIONS OF ANY KIND, either express or implied.\n",
              "// See the License for the specific language governing permissions and\n",
              "// limitations under the License.\n",
              "\n",
              "/**\n",
              " * @fileoverview Helpers for google.colab Python module.\n",
              " */\n",
              "(function(scope) {\n",
              "function span(text, styleAttributes = {}) {\n",
              "  const element = document.createElement('span');\n",
              "  element.textContent = text;\n",
              "  for (const key of Object.keys(styleAttributes)) {\n",
              "    element.style[key] = styleAttributes[key];\n",
              "  }\n",
              "  return element;\n",
              "}\n",
              "\n",
              "// Max number of bytes which will be uploaded at a time.\n",
              "const MAX_PAYLOAD_SIZE = 100 * 1024;\n",
              "\n",
              "function _uploadFiles(inputId, outputId) {\n",
              "  const steps = uploadFilesStep(inputId, outputId);\n",
              "  const outputElement = document.getElementById(outputId);\n",
              "  // Cache steps on the outputElement to make it available for the next call\n",
              "  // to uploadFilesContinue from Python.\n",
              "  outputElement.steps = steps;\n",
              "\n",
              "  return _uploadFilesContinue(outputId);\n",
              "}\n",
              "\n",
              "// This is roughly an async generator (not supported in the browser yet),\n",
              "// where there are multiple asynchronous steps and the Python side is going\n",
              "// to poll for completion of each step.\n",
              "// This uses a Promise to block the python side on completion of each step,\n",
              "// then passes the result of the previous step as the input to the next step.\n",
              "function _uploadFilesContinue(outputId) {\n",
              "  const outputElement = document.getElementById(outputId);\n",
              "  const steps = outputElement.steps;\n",
              "\n",
              "  const next = steps.next(outputElement.lastPromiseValue);\n",
              "  return Promise.resolve(next.value.promise).then((value) => {\n",
              "    // Cache the last promise value to make it available to the next\n",
              "    // step of the generator.\n",
              "    outputElement.lastPromiseValue = value;\n",
              "    return next.value.response;\n",
              "  });\n",
              "}\n",
              "\n",
              "/**\n",
              " * Generator function which is called between each async step of the upload\n",
              " * process.\n",
              " * @param {string} inputId Element ID of the input file picker element.\n",
              " * @param {string} outputId Element ID of the output display.\n",
              " * @return {!Iterable<!Object>} Iterable of next steps.\n",
              " */\n",
              "function* uploadFilesStep(inputId, outputId) {\n",
              "  const inputElement = document.getElementById(inputId);\n",
              "  inputElement.disabled = false;\n",
              "\n",
              "  const outputElement = document.getElementById(outputId);\n",
              "  outputElement.innerHTML = '';\n",
              "\n",
              "  const pickedPromise = new Promise((resolve) => {\n",
              "    inputElement.addEventListener('change', (e) => {\n",
              "      resolve(e.target.files);\n",
              "    });\n",
              "  });\n",
              "\n",
              "  const cancel = document.createElement('button');\n",
              "  inputElement.parentElement.appendChild(cancel);\n",
              "  cancel.textContent = 'Cancel upload';\n",
              "  const cancelPromise = new Promise((resolve) => {\n",
              "    cancel.onclick = () => {\n",
              "      resolve(null);\n",
              "    };\n",
              "  });\n",
              "\n",
              "  // Wait for the user to pick the files.\n",
              "  const files = yield {\n",
              "    promise: Promise.race([pickedPromise, cancelPromise]),\n",
              "    response: {\n",
              "      action: 'starting',\n",
              "    }\n",
              "  };\n",
              "\n",
              "  cancel.remove();\n",
              "\n",
              "  // Disable the input element since further picks are not allowed.\n",
              "  inputElement.disabled = true;\n",
              "\n",
              "  if (!files) {\n",
              "    return {\n",
              "      response: {\n",
              "        action: 'complete',\n",
              "      }\n",
              "    };\n",
              "  }\n",
              "\n",
              "  for (const file of files) {\n",
              "    const li = document.createElement('li');\n",
              "    li.append(span(file.name, {fontWeight: 'bold'}));\n",
              "    li.append(span(\n",
              "        `(${file.type || 'n/a'}) - ${file.size} bytes, ` +\n",
              "        `last modified: ${\n",
              "            file.lastModifiedDate ? file.lastModifiedDate.toLocaleDateString() :\n",
              "                                    'n/a'} - `));\n",
              "    const percent = span('0% done');\n",
              "    li.appendChild(percent);\n",
              "\n",
              "    outputElement.appendChild(li);\n",
              "\n",
              "    const fileDataPromise = new Promise((resolve) => {\n",
              "      const reader = new FileReader();\n",
              "      reader.onload = (e) => {\n",
              "        resolve(e.target.result);\n",
              "      };\n",
              "      reader.readAsArrayBuffer(file);\n",
              "    });\n",
              "    // Wait for the data to be ready.\n",
              "    let fileData = yield {\n",
              "      promise: fileDataPromise,\n",
              "      response: {\n",
              "        action: 'continue',\n",
              "      }\n",
              "    };\n",
              "\n",
              "    // Use a chunked sending to avoid message size limits. See b/62115660.\n",
              "    let position = 0;\n",
              "    do {\n",
              "      const length = Math.min(fileData.byteLength - position, MAX_PAYLOAD_SIZE);\n",
              "      const chunk = new Uint8Array(fileData, position, length);\n",
              "      position += length;\n",
              "\n",
              "      const base64 = btoa(String.fromCharCode.apply(null, chunk));\n",
              "      yield {\n",
              "        response: {\n",
              "          action: 'append',\n",
              "          file: file.name,\n",
              "          data: base64,\n",
              "        },\n",
              "      };\n",
              "\n",
              "      let percentDone = fileData.byteLength === 0 ?\n",
              "          100 :\n",
              "          Math.round((position / fileData.byteLength) * 100);\n",
              "      percent.textContent = `${percentDone}% done`;\n",
              "\n",
              "    } while (position < fileData.byteLength);\n",
              "  }\n",
              "\n",
              "  // All done.\n",
              "  yield {\n",
              "    response: {\n",
              "      action: 'complete',\n",
              "    }\n",
              "  };\n",
              "}\n",
              "\n",
              "scope.google = scope.google || {};\n",
              "scope.google.colab = scope.google.colab || {};\n",
              "scope.google.colab._files = {\n",
              "  _uploadFiles,\n",
              "  _uploadFilesContinue,\n",
              "};\n",
              "})(self);\n",
              "</script> "
            ]
          },
          "metadata": {}
        },
        {
          "output_type": "stream",
          "name": "stdout",
          "text": [
            "Saving PROJECT.zip to PROJECT.zip\n"
          ]
        }
      ]
    },
    {
      "cell_type": "code",
      "source": [
        "import matplotlib.pyplot as plt\n",
        "%matplotlib inline\n",
        "import numpy as np\n",
        "plt.style.use('ggplot')\n",
        "\n",
        "import requests, zipfile, io\n",
        "z = zipfile.ZipFile(io.BytesIO(uploaded['PROJECT.zip']))\n",
        "z.extractall(\"\")\n",
        "\n",
        "%cd PROJECT\n",
        "!pwd"
      ],
      "metadata": {
        "colab": {
          "base_uri": "https://localhost:8080/"
        },
        "id": "gE85Kw69uz52",
        "outputId": "641b6a6a-c8ca-4fdc-fb45-828b62506f70"
      },
      "execution_count": null,
      "outputs": [
        {
          "output_type": "stream",
          "name": "stdout",
          "text": [
            "/content/PROJECT\n",
            "/content/PROJECT\n"
          ]
        }
      ]
    },
    {
      "cell_type": "code",
      "source": [
        "!unzip SASRec.pytorch-master.zip\n",
        "%cd SASRec.pytorch-master\n",
        "!pwd"
      ],
      "metadata": {
        "colab": {
          "base_uri": "https://localhost:8080/"
        },
        "id": "5pZYMiftwL2j",
        "outputId": "b25570fd-8409-4419-f9c4-855fad870cc1"
      },
      "execution_count": null,
      "outputs": [
        {
          "output_type": "stream",
          "name": "stdout",
          "text": [
            "Archive:  SASRec.pytorch-master.zip\n",
            " extracting: SASRec.pytorch-master/.gitignore  \n",
            "   creating: SASRec.pytorch-master/data/\n",
            "  inflating: SASRec.pytorch-master/data/Beauty.txt  \n",
            "  inflating: SASRec.pytorch-master/data/ml-1m.txt  \n",
            "  inflating: SASRec.pytorch-master/data/Steam.txt  \n",
            "  inflating: SASRec.pytorch-master/data/Video.txt  \n",
            "  inflating: SASRec.pytorch-master/data/wikipedia.txt  \n",
            "  inflating: SASRec.pytorch-master/main.py  \n",
            "   creating: SASRec.pytorch-master/ml-1m_default/\n",
            "  inflating: SASRec.pytorch-master/ml-1m_default/args.txt  \n",
            "  inflating: SASRec.pytorch-master/ml-1m_default/SASRec.epoch=601.lr=0.001.layer=2.head=1.hidden=50.maxlen=200.pth  \n",
            "  inflating: SASRec.pytorch-master/ml-1m_default/SASRec.item=5.window=8.epoch=201.lr=0.001.layer=2.head=1.hidden=50.maxlen=200.pth  \n",
            "  inflating: SASRec.pytorch-master/ml-1m_default/SASRec_allitems_seq6_val1_tesN.window=12.epoch=201.lr=0.001.layer=2.head=1.hidden=50.maxlen=200.pth  \n",
            "  inflating: SASRec.pytorch-master/ml-1m_default/SASRec_denseall_seq6_val1_tesN.window=12.epoch=201.lr=0.001.layer=2.head=1.hidden=50.maxlen=200.pth  \n",
            "  inflating: SASRec.pytorch-master/ml-1m_default/SASRec_next_val1_tesN.window=12.epoch=201.lr=0.001.layer=2.head=1.hidden=50.maxlen=200.pth  \n",
            "  inflating: SASRec.pytorch-master/model.py  \n",
            "  inflating: SASRec.pytorch-master/README.md  \n",
            "   creating: SASRec.pytorch-master/results/\n",
            "  inflating: SASRec.pytorch-master/results/allactions_windows_window_ml1m.pdf  \n",
            "  inflating: SASRec.pytorch-master/results/allitems_seq6_val1_tesN.pickle  \n",
            "  inflating: SASRec.pytorch-master/results/denseall_seq6_val1_tesN.pickle  \n",
            "  inflating: SASRec.pytorch-master/results/next_val1_tesN.pickle  \n",
            "  inflating: SASRec.pytorch-master/results/val1_tes1.pickle  \n",
            "  inflating: SASRec.pytorch-master/results/val1_tesN.pickle  \n",
            "  inflating: SASRec.pytorch-master/results/valN_tesN.pickle  \n",
            "  inflating: SASRec.pytorch-master/sampled_items  \n",
            "  inflating: SASRec.pytorch-master/sampled_items_beauty  \n",
            "  inflating: SASRec.pytorch-master/utils.py  \n",
            "/content/PROJECT/SASRec.pytorch-master\n",
            "/content/PROJECT/SASRec.pytorch-master\n"
          ]
        }
      ]
    },
    {
      "cell_type": "markdown",
      "source": [
        "# Pass the following argument to run different models\n",
        "\n",
        "- NextItem: model=1\n",
        "- NextAllItem: model=2\n",
        "- FutureAllItem: model=3\n",
        "- FutureDenseAll: model=4"
      ],
      "metadata": {
        "id": "WJXTBf0QxciU"
      }
    },
    {
      "cell_type": "code",
      "source": [
        "# NextItem, window=3,\n",
        "!python main.py --dataset=ml-1m --train_dir=default --model=1 --num_epochs=200 --window_size=3 --maxlen=200 --dropout_rate=0.2\n"
      ],
      "metadata": {
        "id": "5bL0eALoE7ns"
      },
      "execution_count": null,
      "outputs": []
    },
    {
      "cell_type": "code",
      "source": [
        "# NextAllItem, window=5,\n",
        "!python main.py --dataset=ml-1m --train_dir=default --model=2 --num_epochs=200 --window_size=5 --maxlen=200 --dropout_rate=0.2\n"
      ],
      "metadata": {
        "id": "Udkz072nEf-_"
      },
      "execution_count": null,
      "outputs": []
    },
    {
      "cell_type": "code",
      "source": [
        "# FutureAllItem, window=5,\n",
        "!python main.py --dataset=ml-1m --train_dir=default --model=3 --num_epochs=200 --window_size=5 --maxlen=200 --dropout_rate=0.2\n"
      ],
      "metadata": {
        "colab": {
          "base_uri": "https://localhost:8080/"
        },
        "id": "qugrvdYDEPHy",
        "outputId": "a7ee79dd-1bae-49f1-c9f9-3205ba0f2958"
      },
      "execution_count": null,
      "outputs": [
        {
          "output_type": "stream",
          "name": "stdout",
          "text": [
            "average sequence length: 139.77\n",
            "Done\n"
          ]
        }
      ]
    },
    {
      "cell_type": "markdown",
      "source": [
        "# Pass the following arguments to run the mixed negative model\n",
        "\n",
        "- LogQ correction: logq=1\n",
        "- Mix ratio (in-batch:random): batch_neg=2 rand_neg=8 for 2:8"
      ],
      "metadata": {
        "id": "duSjD0XFF4oC"
      }
    },
    {
      "cell_type": "code",
      "source": [
        "# FutureAllItemMixLogQ, window=5, mix ratio: 2:8\n",
        "!python main.py --dataset=ml-1m --train_dir=default --model=3 --batch_neg=2 --rand_neg=8 --logq=1 --num_epochs=20 --window_size=5 --maxlen=200 --dropout_rate=0.2\n"
      ],
      "metadata": {
        "id": "4vq7d3_RNMHd"
      },
      "execution_count": null,
      "outputs": []
    },
    {
      "cell_type": "markdown",
      "source": [
        "# Pass below to run the dense-all-item model\n",
        "\n",
        "- input_window=3 for MovieLens-1m\n",
        "- input_window=2 for Amazon Beauty"
      ],
      "metadata": {
        "id": "SuH-f7qZKmF0"
      }
    },
    {
      "cell_type": "code",
      "source": [
        "# FutureDenseAllMix, window=5, mix ratio: 6:13\n",
        "!python main.py --dataset=ml-1m --train_dir=default --model=4 --input_window=3 --batch_neg=6 --rand_neg=13 --logq=1 --num_epochs=20 --window_size=5 --maxlen=200 --dropout_rate=0.2\n"
      ],
      "metadata": {
        "id": "3_vQevlAPM4s"
      },
      "execution_count": null,
      "outputs": []
    },
    {
      "cell_type": "markdown",
      "source": [
        "# Change below hyperparams for Amazon Beauty\n",
        "\n",
        "- input_window=2 for a dense-all-item model\n",
        "- maxlen=50\n",
        "- dropout_rate=0.5\n",
        "- max_window=4"
      ],
      "metadata": {
        "id": "4Ju_2CD2NT7m"
      }
    },
    {
      "cell_type": "code",
      "source": [
        "# FutureDenseAll, window=2\n",
        "!python main.py --dataset=Beauty --train_dir=default --model=4 --input_window=2 --max_window=4 --num_epochs=20 --window_size=2 --maxlen=50 --dropout_rate=0.5\n"
      ],
      "metadata": {
        "id": "iW-XvR18QGOb"
      },
      "execution_count": null,
      "outputs": []
    },
    {
      "cell_type": "markdown",
      "source": [
        "# Run followings for the time feature model\n",
        "\n",
        "Change directory to use TiSASRec"
      ],
      "metadata": {
        "id": "xvJgNn7bPxGX"
      }
    },
    {
      "cell_type": "code",
      "source": [
        "%cd ../\n",
        "!pwd"
      ],
      "metadata": {
        "colab": {
          "base_uri": "https://localhost:8080/"
        },
        "id": "RcvR3kbVQJ95",
        "outputId": "678ae5ef-5260-4d60-c9f6-5d05c1ce4037"
      },
      "execution_count": null,
      "outputs": [
        {
          "output_type": "stream",
          "name": "stdout",
          "text": [
            "/content/PROJECT\n",
            "/content/PROJECT\n"
          ]
        }
      ]
    },
    {
      "cell_type": "code",
      "source": [
        "!unzip TiSASRec.pytorch-master.zip\n",
        "%cd TiSASRec.pytorch-master\n",
        "!pwd"
      ],
      "metadata": {
        "colab": {
          "base_uri": "https://localhost:8080/"
        },
        "id": "uw6cgjk4QEmL",
        "outputId": "d1f87efb-0b96-496c-f629-fc4daddf6333"
      },
      "execution_count": null,
      "outputs": [
        {
          "output_type": "stream",
          "name": "stdout",
          "text": [
            "Archive:  TiSASRec.pytorch-master.zip\n",
            " extracting: TiSASRec.pytorch-master/.gitignore  \n",
            "   creating: TiSASRec.pytorch-master/data/\n",
            "  inflating: TiSASRec.pytorch-master/data/Beauty.txt  \n",
            "  inflating: TiSASRec.pytorch-master/data/ml-1m.txt  \n",
            "  inflating: TiSASRec.pytorch-master/main.py  \n",
            "   creating: TiSASRec.pytorch-master/ml-1m_default/\n",
            "  inflating: TiSASRec.pytorch-master/ml-1m_default/TiSASRec.epoch=601.lr=0.001.layer=2.head=1.hidden=50.maxlen=200.pth  \n",
            "  inflating: TiSASRec.pytorch-master/model.py  \n",
            "  inflating: TiSASRec.pytorch-master/README.md  \n",
            "  inflating: TiSASRec.pytorch-master/utils.py  \n",
            "/content/PROJECT/TiSASRec.pytorch-master\n",
            "/content/PROJECT/TiSASRec.pytorch-master\n"
          ]
        }
      ]
    },
    {
      "cell_type": "markdown",
      "source": [
        "# Pass followings to run the time feature models\n",
        "\n",
        "## For MovieLens-1m\n",
        "\n",
        "* model=1 and model=2 are NOT supported."
      ],
      "metadata": {
        "id": "aNMYH7mwQ0eP"
      }
    },
    {
      "cell_type": "code",
      "source": [
        "# item=5, FutureAllItemTime\n",
        "!python main.py --dataset=ml-1m --train_dir=default --num_item=5 --num_epochs=20 --maxlen=200"
      ],
      "metadata": {
        "id": "k6qHi1OVXIi5"
      },
      "execution_count": null,
      "outputs": []
    },
    {
      "cell_type": "code",
      "source": [
        "# item=5, FutureDenseAllMixTime, mix ratio: 6:13\n",
        "!python main.py --dataset=ml-1m --train_dir=default --model=4 --batch_neg=6 --rand_neg=13 --num_item=5 --num_epochs=20 --maxlen=200"
      ],
      "metadata": {
        "id": "0uYXX5IbXwBe"
      },
      "execution_count": null,
      "outputs": []
    },
    {
      "cell_type": "markdown",
      "source": [
        "## For Amazon Beauty\n",
        "\n",
        "- max_window=4\n",
        "- input_window=2 for dense-all model"
      ],
      "metadata": {
        "id": "ysXIiacmXGvT"
      }
    },
    {
      "cell_type": "code",
      "source": [
        "# item=2, FutureAllItemTime\n",
        "!python main.py --dataset=Beauty --train_dir=default --max_window=4 --num_item=2 --num_epochs=20 --maxlen=50 --dropout_rate=0.5"
      ],
      "metadata": {
        "id": "ea1AkmCQZLpY"
      },
      "execution_count": null,
      "outputs": []
    },
    {
      "cell_type": "code",
      "source": [
        "# item=2, FutureDenseAllTime\n",
        "!python main.py --dataset=Beauty --train_dir=default --max_window=4 --model=4 --input_window=2 --num_item=2 --num_epochs=1 --maxlen=50 --dropout_rate=0.5"
      ],
      "metadata": {
        "id": "rEgZIIaCeBL4"
      },
      "execution_count": null,
      "outputs": []
    }
  ]
}